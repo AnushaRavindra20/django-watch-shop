{
 "cells": [
  {
   "cell_type": "code",
   "execution_count": null,
   "id": "ac854f86-9100-4d17-952b-c20bd85a4871",
   "metadata": {},
   "outputs": [],
   "source": [
    "print(\"hello\")"
   ]
  },
  {
   "cell_type": "code",
   "execution_count": null,
   "id": "7b904416-2ff7-4600-8a1a-5740a00a9dd5",
   "metadata": {},
   "outputs": [],
   "source": []
  }
 ],
 "metadata": {
  "kernelspec": {
   "display_name": "Python 3 (ipykernel)",
   "language": "python",
   "name": "python3"
  },
  "language_info": {
   "name": ""
  }
 },
 "nbformat": 4,
 "nbformat_minor": 5
}
